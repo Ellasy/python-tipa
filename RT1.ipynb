{
 "cells": [
  {
   "cell_type": "markdown",
   "metadata": {},
   "source": [
    "# Низамутдинов Тимур \n",
    "## Рабочая тетрадь 1\n",
    "### Задание 1.3"
   ]
  },
  {
   "cell_type": "code",
   "execution_count": 3,
   "metadata": {},
   "outputs": [
    {
     "name": "stdout",
     "output_type": "stream",
     "text": [
      "set()\n",
      "True | <class 'bool'> \n",
      " {8, 1, 3, 7} | <class 'set'> \n",
      " {2, 4, 5, 10, 'apple'} | <class 'set'> \n",
      " set() | <class 'set'> \n",
      " ('Антонова Антонина', 34, 'ж') | <class 'tuple'> \n",
      " type | <class 'str'> \n",
      " [1, 'title', 2, 'content'] | <class 'list'>\n"
     ]
    }
   ],
   "source": [
    "x = 5 >= 2\n",
    "A = {1, 3, 7, 8}\n",
    "B = {2, 4, 5, 10, 'apple'}\n",
    "C = A & B\n",
    "df =  'Антонова Антонина', 34, 'ж'\n",
    "z = 'type'\n",
    "D = [1, 'title', 2, 'content']\n",
    "print(C)\n",
    "print(x, '|', type(x), '\\n', A, '|', type(A), '\\n', B, '|', type(B), '\\n', C, '|', type(C), '\\n', df, '|', type(df), '\\n', z, '|', type(z), '\\n', D, '|', type(D))"
   ]
  },
  {
   "cell_type": "markdown",
   "metadata": {},
   "source": [
    "### Задание 2.3\n"
   ]
  },
  {
   "cell_type": "code",
   "execution_count": 2,
   "metadata": {},
   "outputs": [
    {
     "name": "stdout",
     "output_type": "stream",
     "text": [
      "10\n",
      "x принадлежит интервалу (5;+infinity)\n"
     ]
    }
   ],
   "source": [
    "x = int(input())\n",
    "if x < -5:\n",
    "    print('x принадлежит интервалу (-infinity;-5)')\n",
    "elif x <= 5:\n",
    "    print('x принадлежит интервалу [-5;5]')\n",
    "else:\n",
    "    print('x принадлежит интервалу (5;+infinity)')\n",
    "    "
   ]
  },
  {
   "cell_type": "markdown",
   "metadata": {},
   "source": [
    "### Задание 3.3.1"
   ]
  },
  {
   "cell_type": "code",
   "execution_count": 3,
   "metadata": {},
   "outputs": [
    {
     "name": "stdout",
     "output_type": "stream",
     "text": [
      "10\n",
      "7\n",
      "4\n",
      "1\n"
     ]
    }
   ],
   "source": [
    "x = 10\n",
    "while x >= 1:\n",
    "    print(x)\n",
    "    x = x - 3"
   ]
  },
  {
   "cell_type": "markdown",
   "metadata": {},
   "source": [
    "### Задание 3.3.2"
   ]
  },
  {
   "cell_type": "code",
   "execution_count": 7,
   "metadata": {},
   "outputs": [
    {
     "name": "stdout",
     "output_type": "stream",
     "text": [
      "Одежда\n",
      "Физическая форма\n",
      "Акссесуары\n",
      "Форма лица\n",
      "Цвет кожи\n"
     ]
    }
   ],
   "source": [
    "characteristics = ['Одежда', 'Физическая форма', 'Акссесуары', 'Форма лица', 'Цвет кожи']\n",
    "for characteristic in characteristics:\n",
    "    print(characteristic)"
   ]
  },
  {
   "cell_type": "markdown",
   "metadata": {},
   "source": [
    "### Задание 3.3.3"
   ]
  },
  {
   "cell_type": "code",
   "execution_count": 8,
   "metadata": {},
   "outputs": [
    {
     "name": "stdout",
     "output_type": "stream",
     "text": [
      "2\n",
      "3\n",
      "4\n",
      "5\n",
      "6\n",
      "7\n",
      "8\n",
      "9\n",
      "10\n",
      "11\n",
      "12\n",
      "13\n",
      "14\n",
      "15\n"
     ]
    }
   ],
   "source": [
    "for i in range(2, 16, 1):\n",
    "    print(i)"
   ]
  },
  {
   "cell_type": "markdown",
   "metadata": {},
   "source": [
    "### Задание 3.3.4"
   ]
  },
  {
   "cell_type": "code",
   "execution_count": 15,
   "metadata": {},
   "outputs": [
    {
     "name": "stdout",
     "output_type": "stream",
     "text": [
      "[105, 80, 55, 30, 5]\n"
     ]
    }
   ],
   "source": [
    "A = [-i for i in range(5, 106, 25)]\n",
    "A.sort()\n",
    "A = [-i for i in A]\n",
    "print(A)"
   ]
  },
  {
   "cell_type": "markdown",
   "metadata": {},
   "source": [
    "### Задание 3.3.5"
   ]
  },
  {
   "cell_type": "code",
   "execution_count": 133,
   "metadata": {},
   "outputs": [
    {
     "name": "stdout",
     "output_type": "stream",
     "text": [
      "[8, 6, 4, 2, 0]\n",
      "8\n",
      "6\n",
      "4\n",
      "2\n",
      "0\n",
      "[8, 1, 6, 3, 5, 4, 5, 2, 7, 0, 9]\n"
     ]
    }
   ],
   "source": [
    "s = 0\n",
    "x = [0, 1, 2, 3, 5, 4, 5, 6, 7, 8, 9]\n",
    "z = [0]*len(x)\n",
    "l = [-x[i] for i in range(len(x))\n",
    "    if x[i] % 2 == 0]\n",
    "l.sort()\n",
    "l = [-i for i in l]\n",
    "print(l)\n",
    "for i in range(len(x)):\n",
    "    if (x[i] % 2 == 1):\n",
    "        z[i] = x[i]\n",
    "    else:\n",
    "        print(l[s])\n",
    "        z[i] = l[s]\n",
    "        s += 1\n",
    "print(z)\n"
   ]
  },
  {
   "cell_type": "markdown",
   "metadata": {},
   "source": [
    "###  Задание 4.3.1"
   ]
  },
  {
   "cell_type": "code",
   "execution_count": 95,
   "metadata": {},
   "outputs": [
    {
     "name": "stdout",
     "output_type": "stream",
     "text": [
      "Среднее 0.522628668895944\n",
      "Медиана 0.5132957815241801\n"
     ]
    },
    {
     "data": {
      "image/png": "[encoded data removed]",
      "text/plain": [
       "<Figure size 1000x600 with 1 Axes>"
      ]
     },
     "metadata": {},
     "output_type": "display_data"
    }
   ],
   "source": [
    "import math as m\n",
    "import numpy as np\n",
    "import matplotlib.pyplot as plt\n",
    "s = np.random.sample(100)\n",
    "sred = s.sum()/len(s)\n",
    "k = int(len(s)/2)\n",
    "s.sort()\n",
    "if len(s) % 2 == 0:\n",
    "    median = ((s[k]) + (s[k - 1]))/2\n",
    "else:\n",
    "    median = s[(len(s) // 2)]\n",
    "print('Среднее', sred)\n",
    "print('Медиана', median)\n",
    "\n",
    "r = [i for i in range(len(s))]\n",
    "fig, ax = plt.subplots(figsize=(10, 6))\n",
    "ax.scatter(x = r, y = s)\n",
    "plt.xlabel(\"Порядок\")\n",
    "plt.ylabel(\"Значение\")\n",
    "plt.show()\n"
   ]
  },
  {
   "cell_type": "code",
   "execution_count": null,
   "metadata": {},
   "outputs": [],
   "source": []
  },
  {
   "cell_type": "code",
   "execution_count": null,
   "metadata": {},
   "outputs": [],
   "source": []
  }
 ],
 "metadata": {
  "kernelspec": {
   "display_name": "Python 3 (ipykernel)",
   "language": "python",
   "name": "python3"
  },
  "language_info": {
   "codemirror_mode": {
    "name": "ipython",
    "version": 3
   },
   "file_extension": ".py",
   "mimetype": "text/x-python",
   "name": "python",
   "nbconvert_exporter": "python",
   "pygments_lexer": "ipython3",
   "version": "3.9.13"
  }
 },
 "nbformat": 4,
 "nbformat_minor": 4
}
