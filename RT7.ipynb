{
 "cells": [
  {
   "cell_type": "markdown",
   "metadata": {},
   "source": [
    "# Низамутдинов Тимур\n",
    "## Рабочая тетрадь 7"
   ]
  },
  {
   "cell_type": "markdown",
   "metadata": {},
   "source": [
    "### 1.1 Задание"
   ]
  },
  {
   "cell_type": "code",
   "execution_count": 32,
   "metadata": {},
   "outputs": [],
   "source": [
    "import sys\n",
    "sys.path.append(\"Neural-Network-Constructor/Constructor\")\n",
    "import NeuralNetworksConstructor as nnc\n",
    "from sklearn import datasets\n",
    "import random\n",
    "import numpy as np"
   ]
  },
  {
   "cell_type": "code",
   "execution_count": 33,
   "metadata": {},
   "outputs": [
    {
     "data": {
      "text/plain": [
       "[(array([[ 0.,  0.,  5., 16., 16., 10.,  0.,  0.,  0.,  2., 16., 14., 14.,\n",
       "          14.,  0.,  0.,  0.,  2., 14.,  4., 14., 10.,  0.,  0.,  0.,  0.,\n",
       "           0.,  8., 16.,  8.,  0.,  0.,  0.,  0.,  0.,  0.,  8., 16.,  6.,\n",
       "           0.,  0.,  0.,  0.,  0.,  0., 12., 13.,  0.,  0.,  0.,  7., 11.,\n",
       "           8., 16., 11.,  0.,  0.,  0.,  8., 16., 16., 10.,  1.,  0.]]),\n",
       "  array([0, 0, 0, 1, 0, 0, 0, 0, 0, 0])),\n",
       " (array([[ 0.,  0.,  6., 11., 16., 13.,  5.,  0.,  0.,  2., 16., 16., 16.,\n",
       "          16., 12.,  0.,  0.,  0.,  0.,  0.,  5., 16.,  4.,  0.,  0.,  0.,\n",
       "           0., 10., 15.,  5.,  0.,  0.,  0.,  0.,  9., 16.,  3.,  0.,  0.,\n",
       "           0.,  0.,  0., 13., 16., 13.,  1.,  0.,  0.,  0.,  0.,  0.,  5.,\n",
       "          16., 14.,  0.,  0.,  0.,  0.,  5., 14., 11.,  6.,  0.,  0.]]),\n",
       "  array([0, 0, 0, 1, 0, 0, 0, 0, 0, 0]))]"
      ]
     },
     "execution_count": 33,
     "metadata": {},
     "output_type": "execute_result"
    }
   ],
   "source": [
    "#obtaining dataset\n",
    "classes = 10\n",
    "digits = datasets.load_digits()\n",
    "arr_out = np.eye(classes, dtype=int)\n",
    "\n",
    "dataset = [\n",
    "    (digits.data[i][None, ...], \n",
    "        arr_out[digits.target[i]]) \n",
    "    for i in range(len(digits.target))]\n",
    "random.shuffle(dataset)\n",
    "\n",
    "dataset[:2]"
   ]
  },
  {
   "cell_type": "code",
   "execution_count": 34,
   "metadata": {},
   "outputs": [
    {
     "data": {
      "text/plain": [
       "[(array([[ 0.,  0.,  0.,  3., 15., 13.,  1.,  0.,  0.,  0.,  2., 15., 16.,\n",
       "          16.,  2.,  0.,  0.,  0., 13., 10.,  5., 15.,  0.,  0.,  0.,  0.,\n",
       "           6.,  2., 11.,  8.,  0.,  0.,  0.,  0.,  0.,  6., 14.,  2.,  0.,\n",
       "           0.,  0.,  3.,  8., 16.,  8.,  0.,  0.,  0.,  3., 16., 16., 16.,\n",
       "          16.,  8.,  0.,  0.,  1.,  4.,  4.,  5., 13.,  6.,  0.,  0.]]),\n",
       "  array([0, 0, 1, 0, 0, 0, 0, 0, 0, 0])),\n",
       " (array([[ 0.,  0.,  0.,  7.,  8.,  0.,  0.,  0.,  0.,  0.,  0., 15.,  2.,\n",
       "           0.,  3.,  1.,  0.,  0.,  8., 10.,  0.,  2., 16.,  2.,  0.,  1.,\n",
       "          15.,  4.,  3.,  9., 12.,  0.,  0.,  8., 16., 16., 16., 16.,  6.,\n",
       "           0.,  0.,  1.,  4.,  3.,  9., 14.,  0.,  0.,  0.,  0.,  0.,  0.,\n",
       "          15.,  3.,  0.,  0.,  0.,  0.,  0.,  9., 10.,  0.,  0.,  0.]]),\n",
       "  array([0, 0, 0, 0, 1, 0, 0, 0, 0, 0]))]"
      ]
     },
     "execution_count": 34,
     "metadata": {},
     "output_type": "execute_result"
    }
   ],
   "source": [
    "#using part of the original data to train our neural network\n",
    "dataset_trainings_len = len(dataset) * 90 // 100\n",
    "dataset_training = []\n",
    "for i in range(dataset_trainings_len):\n",
    "    dataset_training.append(dataset[i])\n",
    "\n",
    "#and other part to test our network\n",
    "test_dataset = []\n",
    "for i in range(dataset_trainings_len, len(dataset)):\n",
    "    test_dataset.append(dataset[i])\n",
    "\n",
    "test_dataset[:2]"
   ]
  },
  {
   "cell_type": "code",
   "execution_count": 35,
   "metadata": {},
   "outputs": [],
   "source": [
    "#providing some hyperparameters to the network\n",
    "layers = [64, 32, 16, 10]\n",
    "alpha = 0.00003\n",
    "batch_size = len(dataset_training)\n",
    "trainings = len(dataset_training) //  batch_size\n",
    "epochs = 200\n",
    "\n",
    "#creating and training the model\n",
    "model = nnc.NeuralNetwork(layers, 'tanh', 'classification')\n",
    "model.train(\n",
    "    alpha, \n",
    "    trainings, \n",
    "    epochs, \n",
    "    batch_size, \n",
    "    dataset_training, \n",
    "    test_dataset)"
   ]
  },
  {
   "cell_type": "code",
   "execution_count": 36,
   "metadata": {},
   "outputs": [
    {
     "name": "stdout",
     "output_type": "stream",
     "text": [
      "Neural network output (cleared): 2\n",
      "Correct output (cleared): 2\n",
      "Cross-entropy before clearing: 42.06316358523758\n",
      "\n",
      "Neural network output (cleared): 4\n",
      "Correct output (cleared): 4\n",
      "Cross-entropy before clearing: 49.649645478986486\n",
      "\n",
      "Neural network output (cleared): 9\n",
      "Correct output (cleared): 9\n",
      "Cross-entropy before clearing: 35.52570146535294\n",
      "\n"
     ]
    },
    {
     "data": {
      "image/png": "[encoded data removed]",
      "text/plain": [
       "<Figure size 640x480 with 1 Axes>"
      ]
     },
     "metadata": {},
     "output_type": "display_data"
    }
   ],
   "source": [
    "#testing our model using test dataset\n",
    "for i in range(3):\n",
    "    model.show_determined_test(dataset_i = test_dataset[i])\n",
    "    print()\n",
    "\n",
    "model.show_error()"
   ]
  },
  {
   "cell_type": "markdown",
   "metadata": {},
   "source": [
    "### 1.1 Задание"
   ]
  },
  {
   "cell_type": "code",
   "execution_count": 37,
   "metadata": {},
   "outputs": [],
   "source": [
    "import pandas as pd"
   ]
  },
  {
   "cell_type": "code",
   "execution_count": 38,
   "metadata": {},
   "outputs": [
    {
     "data": {
      "text/html": [
       "<div>\n",
       "<style scoped>\n",
       "    .dataframe tbody tr th:only-of-type {\n",
       "        vertical-align: middle;\n",
       "    }\n",
       "\n",
       "    .dataframe tbody tr th {\n",
       "        vertical-align: top;\n",
       "    }\n",
       "\n",
       "    .dataframe thead th {\n",
       "        text-align: right;\n",
       "    }\n",
       "</style>\n",
       "<table border=\"1\" class=\"dataframe\">\n",
       "  <thead>\n",
       "    <tr style=\"text-align: right;\">\n",
       "      <th></th>\n",
       "      <th>sepal.length</th>\n",
       "      <th>sepal.width</th>\n",
       "      <th>petal.length</th>\n",
       "      <th>petal.width</th>\n",
       "      <th>variety</th>\n",
       "    </tr>\n",
       "  </thead>\n",
       "  <tbody>\n",
       "    <tr>\n",
       "      <th>0</th>\n",
       "      <td>5.1</td>\n",
       "      <td>3.5</td>\n",
       "      <td>1.4</td>\n",
       "      <td>0.2</td>\n",
       "      <td>Setosa</td>\n",
       "    </tr>\n",
       "    <tr>\n",
       "      <th>1</th>\n",
       "      <td>4.9</td>\n",
       "      <td>3.0</td>\n",
       "      <td>1.4</td>\n",
       "      <td>0.2</td>\n",
       "      <td>Setosa</td>\n",
       "    </tr>\n",
       "    <tr>\n",
       "      <th>2</th>\n",
       "      <td>4.7</td>\n",
       "      <td>3.2</td>\n",
       "      <td>1.3</td>\n",
       "      <td>0.2</td>\n",
       "      <td>Setosa</td>\n",
       "    </tr>\n",
       "    <tr>\n",
       "      <th>3</th>\n",
       "      <td>4.6</td>\n",
       "      <td>3.1</td>\n",
       "      <td>1.5</td>\n",
       "      <td>0.2</td>\n",
       "      <td>Setosa</td>\n",
       "    </tr>\n",
       "    <tr>\n",
       "      <th>4</th>\n",
       "      <td>5.0</td>\n",
       "      <td>3.6</td>\n",
       "      <td>1.4</td>\n",
       "      <td>0.2</td>\n",
       "      <td>Setosa</td>\n",
       "    </tr>\n",
       "  </tbody>\n",
       "</table>\n",
       "</div>"
      ],
      "text/plain": [
       "   sepal.length  sepal.width  petal.length  petal.width variety\n",
       "0           5.1          3.5           1.4          0.2  Setosa\n",
       "1           4.9          3.0           1.4          0.2  Setosa\n",
       "2           4.7          3.2           1.3          0.2  Setosa\n",
       "3           4.6          3.1           1.5          0.2  Setosa\n",
       "4           5.0          3.6           1.4          0.2  Setosa"
      ]
     },
     "execution_count": 38,
     "metadata": {},
     "output_type": "execute_result"
    }
   ],
   "source": [
    "iris_df = pd.read_csv('iris.csv')\n",
    "iris_df.head()"
   ]
  },
  {
   "cell_type": "code",
   "execution_count": 39,
   "metadata": {},
   "outputs": [
    {
     "data": {
      "text/plain": [
       "(array([[6.8, 3. , 5.5, 2.1],\n",
       "        [7.9, 3.8, 6.4, 2. ],\n",
       "        [7.7, 3. , 6.1, 2.3],\n",
       "        [5. , 3.3, 1.4, 0.2],\n",
       "        [4.6, 3.6, 1. , 0.2]]),\n",
       " array(['Virginica', 'Virginica', 'Virginica', 'Setosa', 'Setosa'],\n",
       "       dtype=object))"
      ]
     },
     "execution_count": 39,
     "metadata": {},
     "output_type": "execute_result"
    }
   ],
   "source": [
    "from sklearn.model_selection import train_test_split\n",
    "\n",
    "x_train, x_test, y_train, y_test = train_test_split(\n",
    "    iris_df.iloc[:, :-1].values, \n",
    "    iris_df.iloc[:, -1].values,\n",
    "    train_size=0.8,\n",
    "    test_size=0.2\n",
    "    )\n",
    "\n",
    "x_train[:5], y_train[:5]"
   ]
  },
  {
   "cell_type": "code",
   "execution_count": 40,
   "metadata": {},
   "outputs": [
    {
     "data": {
      "text/plain": [
       "((120, 4), (30, 4), (120,), (30,))"
      ]
     },
     "execution_count": 40,
     "metadata": {},
     "output_type": "execute_result"
    }
   ],
   "source": [
    "x_train.shape, x_test.shape, y_train.shape, y_test.shape"
   ]
  },
  {
   "cell_type": "code",
   "execution_count": 41,
   "metadata": {},
   "outputs": [
    {
     "name": "stderr",
     "output_type": "stream",
     "text": [
      "/Users/a125x/opt/miniconda3/envs/torch/lib/python3.9/site-packages/sklearn/neural_network/_multilayer_perceptron.py:692: ConvergenceWarning: Stochastic Optimizer: Maximum iterations (200) reached and the optimization hasn't converged yet.\n",
      "  warnings.warn(\n"
     ]
    },
    {
     "data": {
      "text/plain": [
       "MLPClassifier()"
      ]
     },
     "execution_count": 41,
     "metadata": {},
     "output_type": "execute_result"
    }
   ],
   "source": [
    "from sklearn.neural_network import MLPClassifier\n",
    "\n",
    "mlp_classifier = MLPClassifier()\n",
    "mlp_classifier.fit(x_train, y_train)"
   ]
  },
  {
   "cell_type": "code",
   "execution_count": 42,
   "metadata": {},
   "outputs": [
    {
     "name": "stdout",
     "output_type": "stream",
     "text": [
      "['Setosa' 'Versicolor' 'Virginica' 'Virginica' 'Versicolor']\n",
      "['Setosa' 'Virginica' 'Virginica' 'Virginica' 'Versicolor']\n",
      "\n",
      "test accuracy: 0.9666666666666667\n",
      "train accuracy: 0.975\n"
     ]
    }
   ],
   "source": [
    "y_preds = mlp_classifier.predict(x_test)\n",
    "\n",
    "print(y_test[:5])\n",
    "print(y_preds[:5])\n",
    "print()\n",
    "print(f'test accuracy: {mlp_classifier.score(x_test, y_test)}')\n",
    "print(f'train accuracy: {mlp_classifier.score(x_train, y_train)}')"
   ]
  },
  {
   "cell_type": "code",
   "execution_count": 43,
   "metadata": {},
   "outputs": [
    {
     "data": {
      "image/png": "[encoded data removed]",
      "text/plain": [
       "<Figure size 600x600 with 2 Axes>"
      ]
     },
     "metadata": {},
     "output_type": "display_data"
    }
   ],
   "source": [
    "from sklearn.metrics import confusion_matrix\n",
    "import matplotlib.pyplot as plt\n",
    "\n",
    "conf_mat = confusion_matrix(y_test, y_preds)\n",
    "fig = plt.figure(figsize=(6,6))\n",
    "\n",
    "plt.matshow(conf_mat, cmap=plt.cm.Blues, fignum=1)\n",
    "plt.yticks(range(3), range (3))\n",
    "plt.xticks(range(3), range (3))\n",
    "plt.colorbar ();\n",
    "for i in range(3):\n",
    "    for j in range(3):\n",
    "        plt.text(i-0.2,j+0.1, str(conf_mat[j, i]), color='tab:red')\n"
   ]
  },
  {
   "cell_type": "code",
   "execution_count": 44,
   "metadata": {},
   "outputs": [
    {
     "name": "stdout",
     "output_type": "stream",
     "text": [
      "Loss :  0.23251954672116773\n",
      "Number of Coefs :  2\n",
      "Number of Intercepts :  2\n",
      "Number of Iterations for Which Estimator Ran :  200\n",
      "Name of Output Layer Activation Function:  softmax\n"
     ]
    }
   ],
   "source": [
    "print(\"Loss : \", mlp_classifier.loss_)\n",
    "print(\"Number of Coefs : \" , len (mlp_classifier.coefs_))\n",
    "print(\"Number of Intercepts : \", len (mlp_classifier.intercepts_))\n",
    "print(\"Number of Iterations for Which Estimator Ran : \", mlp_classifier.n_iter_)\n",
    "print(\"Name of Output Layer Activation Function: \", mlp_classifier.out_activation_)"
   ]
  },
  {
   "cell_type": "code",
   "execution_count": 47,
   "metadata": {},
   "outputs": [
    {
     "data": {
      "text/html": [
       "<div>\n",
       "<style scoped>\n",
       "    .dataframe tbody tr th:only-of-type {\n",
       "        vertical-align: middle;\n",
       "    }\n",
       "\n",
       "    .dataframe tbody tr th {\n",
       "        vertical-align: top;\n",
       "    }\n",
       "\n",
       "    .dataframe thead th {\n",
       "        text-align: right;\n",
       "    }\n",
       "</style>\n",
       "<table border=\"1\" class=\"dataframe\">\n",
       "  <thead>\n",
       "    <tr style=\"text-align: right;\">\n",
       "      <th></th>\n",
       "      <th>YearsExperience</th>\n",
       "      <th>Salary</th>\n",
       "    </tr>\n",
       "  </thead>\n",
       "  <tbody>\n",
       "    <tr>\n",
       "      <th>0</th>\n",
       "      <td>1.1</td>\n",
       "      <td>39343.0</td>\n",
       "    </tr>\n",
       "    <tr>\n",
       "      <th>1</th>\n",
       "      <td>1.3</td>\n",
       "      <td>46205.0</td>\n",
       "    </tr>\n",
       "    <tr>\n",
       "      <th>2</th>\n",
       "      <td>1.5</td>\n",
       "      <td>37731.0</td>\n",
       "    </tr>\n",
       "    <tr>\n",
       "      <th>3</th>\n",
       "      <td>2.0</td>\n",
       "      <td>43525.0</td>\n",
       "    </tr>\n",
       "    <tr>\n",
       "      <th>4</th>\n",
       "      <td>2.2</td>\n",
       "      <td>39891.0</td>\n",
       "    </tr>\n",
       "  </tbody>\n",
       "</table>\n",
       "</div>"
      ],
      "text/plain": [
       "   YearsExperience   Salary\n",
       "0              1.1  39343.0\n",
       "1              1.3  46205.0\n",
       "2              1.5  37731.0\n",
       "3              2.0  43525.0\n",
       "4              2.2  39891.0"
      ]
     },
     "execution_count": 47,
     "metadata": {},
     "output_type": "execute_result"
    }
   ],
   "source": [
    "salary_df = pd.read_csv('Salary_Data.csv')\n",
    "salary_df.head()"
   ]
  },
  {
   "cell_type": "code",
   "execution_count": 48,
   "metadata": {},
   "outputs": [
    {
     "data": {
      "text/plain": [
       "(array([[8.7],\n",
       "        [3.7],\n",
       "        [5.9],\n",
       "        [9. ],\n",
       "        [7.9]]),\n",
       " array([109431.,  57189.,  81363., 105582., 101302.]))"
      ]
     },
     "execution_count": 48,
     "metadata": {},
     "output_type": "execute_result"
    }
   ],
   "source": [
    "x_train, x_test, y_train, y_test = train_test_split(\n",
    "    salary_df.iloc[:, :-1].values, \n",
    "    salary_df.iloc[:, -1].values,\n",
    "    train_size=0.8,\n",
    "    test_size=0.2\n",
    "    )\n",
    "\n",
    "x_train[:5], y_train[:5]"
   ]
  },
  {
   "cell_type": "code",
   "execution_count": 49,
   "metadata": {},
   "outputs": [
    {
     "name": "stderr",
     "output_type": "stream",
     "text": [
      "/Users/a125x/opt/miniconda3/envs/torch/lib/python3.9/site-packages/sklearn/neural_network/_multilayer_perceptron.py:692: ConvergenceWarning: Stochastic Optimizer: Maximum iterations (200) reached and the optimization hasn't converged yet.\n",
      "  warnings.warn(\n"
     ]
    },
    {
     "data": {
      "text/plain": [
       "MLPRegressor(random_state=123)"
      ]
     },
     "execution_count": 49,
     "metadata": {},
     "output_type": "execute_result"
    }
   ],
   "source": [
    "from sklearn.neural_network import MLPRegressor\n",
    "mlp_regressor = MLPRegressor (random_state=123)\n",
    "mlp_regressor.fit(x_train, y_train)"
   ]
  },
  {
   "cell_type": "code",
   "execution_count": 52,
   "metadata": {},
   "outputs": [
    {
     "name": "stdout",
     "output_type": "stream",
     "text": [
      "[39.02785412 29.42175976 30.38241637 24.61847671 20.29341914 37.58734095]\n",
      "[98273. 66029. 83088. 57081. 54445. 91738.]\n",
      "Test R^2 Score : -19.764\n",
      "Training R^2 Score : -6.939\n"
     ]
    }
   ],
   "source": [
    "y_preds = mlp_regressor.predict (x_test)\n",
    "print(y_preds)\n",
    "print(y_test)\n",
    "## Метод Score оценивает точность моделей классификации.\n",
    "print('Test R^2 Score : %.3f'%mlp_regressor.score(x_test, y_test))\n",
    "print('Training R^2 Score : %.3f'%mlp_regressor.score(x_train, y_train))"
   ]
  },
  {
   "cell_type": "code",
   "execution_count": 53,
   "metadata": {},
   "outputs": [
    {
     "name": "stdout",
     "output_type": "stream",
     "text": [
      "Loss :  0.23251954672116773\n",
      "Number of Coefs :  2\n",
      "Number of Intercepts :  2\n",
      "Number of Iterations for Which Estimator Ran :  200\n",
      "Name of Output Layer Activation Function:  softmax\n"
     ]
    }
   ],
   "source": [
    "print(\"Loss : \", mlp_classifier.loss_)\n",
    "print(\"Number of Coefs : \" , len (mlp_classifier.coefs_))\n",
    "print(\"Number of Intercepts : \", len (mlp_classifier.intercepts_))\n",
    "print(\"Number of Iterations for Which Estimator Ran : \", mlp_classifier.n_iter_)\n",
    "print(\"Name of Output Layer Activation Function: \", mlp_classifier.out_activation_)"
   ]
  }
 ],
 "metadata": {
  "kernelspec": {
   "display_name": "Python 3.9.13 ('torch')",
   "language": "python",
   "name": "python3"
  },
  "language_info": {
   "codemirror_mode": {
    "name": "ipython",
    "version": 3
   },
   "file_extension": ".py",
   "mimetype": "text/x-python",
   "name": "python",
   "nbconvert_exporter": "python",
   "pygments_lexer": "ipython3",
   "version": "3.9.13"
  },
  "orig_nbformat": 4,
  "vscode": {
   "interpreter": {
    "hash": "dec525beecad1253d558215be43fe388cfdb23d116f783c6d23544e0c511c071"
   }
  }
 },
 "nbformat": 4,
 "nbformat_minor": 2
}
